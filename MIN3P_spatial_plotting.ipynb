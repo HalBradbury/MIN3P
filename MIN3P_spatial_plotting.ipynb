{
 "cells": [
  {
   "cell_type": "code",
   "execution_count": 1,
   "metadata": {},
   "outputs": [],
   "source": [
    "import pandas as pd\n",
    "import numpy as np\n",
    "import matplotlib.pyplot as plt\n",
    "import os\n",
    "from glob import glob\n",
    "from ipywidgets import widgets\n",
    "from ipywidgets.widgets import fixed\n",
    "from min3pTecTools import readTecFile, plot2DTecFile, getDataCats, plotTimeNav1D, plotTimeNav, findColorMapRange, plot1DTecFile\n",
    "\n",
    "plt.rcParams[\"figure.figsize\"] = (8,8)"
   ]
  },
  {
   "cell_type": "code",
   "execution_count": 2,
   "metadata": {},
   "outputs": [],
   "source": [
    "run_name='dissol'\n",
    "catList, maxTime = getDataCats(\"/Users/hjb62/MIN3P/Examples/benchmarks_standard/reactran/dissol\",run_name)\n"
   ]
  },
  {
   "cell_type": "code",
   "execution_count": 5,
   "metadata": {},
   "outputs": [
    {
     "data": {
      "application/vnd.jupyter.widget-view+json": {
       "model_id": "0ec40a0cdb26418780455095575b0953",
       "version_major": 2,
       "version_minor": 0
      },
      "text/plain": [
       "interactive(children=(ToggleButtons(description='fileCat', options=('gsp', 'gsx', 'gsd', 'gsm', 'gsc', 'gsv', …"
      ]
     },
     "metadata": {},
     "output_type": "display_data"
    },
    {
     "data": {
      "text/plain": [
       "<function min3pTecTools.plotTimeNav1D(fileCat, time, plotVar, maxTime, run_name)>"
      ]
     },
     "execution_count": 5,
     "metadata": {},
     "output_type": "execute_result"
    }
   ],
   "source": [
    "fileCat = widgets.ToggleButtons(\n",
    "    options=catList,\n",
    "    description='',\n",
    "    disabled=False,\n",
    "    button_style='')\n",
    "\n",
    "time = widgets.IntSlider(value=1,\n",
    "    min=1,\n",
    "    max=maxTime,\n",
    "    step=1)\n",
    "\n",
    "plotVar = widgets.Dropdown(\n",
    "    options=(readTecFile(fileCat.value, time.value, run_name)[1])[3:])\n",
    "\n",
    "def updatePlotVars(*args):\n",
    "    plotVarList = readTecFile(fileCat.value, time.value, run_name)[1]\n",
    "    plotVar.options = plotVarList[3:]\n",
    "\n",
    "fileCat.observe(updatePlotVars, 'value')\n",
    "\n",
    "widgets.interact(plotTimeNav1D, fileCat=fileCat, time=time, plotVar=plotVar, maxTime=fixed(maxTime), run_name=run_name)"
   ]
  },
  {
   "cell_type": "code",
   "execution_count": 4,
   "metadata": {},
   "outputs": [
    {
     "data": {
      "application/vnd.jupyter.widget-view+json": {
       "model_id": "0a53f5d6f44e4371b4c32b4f3709d111",
       "version_major": 2,
       "version_minor": 0
      },
      "text/plain": [
       "interactive(children=(ToggleButtons(description='fileCat', options=('gsp', 'gsc', 'gss', 'gst', 'gsm', 'gsx', …"
      ]
     },
     "metadata": {},
     "output_type": "display_data"
    },
    {
     "data": {
      "text/plain": [
       "<function min3pTecTools.plotTimeNav(fileCat, time, plotVar, maxTime, run_name)>"
      ]
     },
     "execution_count": 4,
     "metadata": {},
     "output_type": "execute_result"
    }
   ],
   "source": [
    "fileCat = widgets.ToggleButtons(\n",
    "    options=catList,\n",
    "    description='',\n",
    "    disabled=False,\n",
    "    button_style='')\n",
    "\n",
    "time = widgets.IntSlider(value=1,\n",
    "    min=1,\n",
    "    max=maxTime,\n",
    "    step=1)\n",
    "\n",
    "plotVar = widgets.Dropdown(\n",
    "    options=(readTecFile(fileCat.value, time.value, run_name)[1])[3:])\n",
    "\n",
    "def updatePlotVars(*args):\n",
    "    plotVarList = readTecFile(fileCat.value, time.value, run_name)[1]\n",
    "    plotVar.options = plotVarList[3:]\n",
    "\n",
    "fileCat.observe(updatePlotVars, 'value')\n",
    "\n",
    "widgets.interact(plotTimeNav, fileCat=fileCat, time=time, plotVar=plotVar, maxTime=fixed(maxTime), run_name=run_name)"
   ]
  },
  {
   "cell_type": "code",
   "execution_count": null,
   "metadata": {},
   "outputs": [],
   "source": []
  },
  {
   "cell_type": "code",
   "execution_count": null,
   "metadata": {},
   "outputs": [],
   "source": []
  }
 ],
 "metadata": {
  "kernelspec": {
   "display_name": "Python 3 (ipykernel)",
   "language": "python",
   "name": "python3"
  },
  "language_info": {
   "codemirror_mode": {
    "name": "ipython",
    "version": 3
   },
   "file_extension": ".py",
   "mimetype": "text/x-python",
   "name": "python",
   "nbconvert_exporter": "python",
   "pygments_lexer": "ipython3",
   "version": "3.9.13"
  }
 },
 "nbformat": 4,
 "nbformat_minor": 4
}
